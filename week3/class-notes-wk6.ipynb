{
 "cells": [
  {
   "cell_type": "code",
   "execution_count": 4,
   "metadata": {},
   "outputs": [],
   "source": [
    "import duckdb"
   ]
  },
  {
   "cell_type": "code",
   "execution_count": 1,
   "metadata": {},
   "outputs": [
    {
     "data": {
      "text/plain": [
       "'/Users/maxwellpatterson/Desktop/classes/spring/eds213/eds213-materials/week3'"
      ]
     },
     "execution_count": 1,
     "metadata": {},
     "output_type": "execute_result"
    }
   ],
   "source": [
    "%pwd"
   ]
  },
  {
   "cell_type": "code",
   "execution_count": 2,
   "metadata": {},
   "outputs": [
    {
     "name": "stdout",
     "output_type": "stream",
     "text": [
      "01_ASDN_Readme.txt        \u001b[31mbuild-database\u001b[m\u001b[m*           site.csv\n",
      "ASDN_Bird_eggs.csv        class-notes-wk6.ipynb     species.csv\n",
      "ASDN_Bird_nests.csv       database.db               species_fixed.csv\n",
      "ASDN_Camp_assignment.csv  personnel.csv             theloop.sh\n",
      "addition.sh               schema-build-script.sql\n",
      "asdn-er-diagram.png       scripts.sql\n"
     ]
    }
   ],
   "source": [
    "%ls"
   ]
  },
  {
   "cell_type": "markdown",
   "metadata": {},
   "source": [
    "1. Create a a connection and a cursor"
   ]
  },
  {
   "cell_type": "code",
   "execution_count": 5,
   "metadata": {},
   "outputs": [],
   "source": [
    "conn = duckdb.connect(\"database.db\")"
   ]
  },
  {
   "cell_type": "code",
   "execution_count": 6,
   "metadata": {},
   "outputs": [],
   "source": [
    "cur = conn.cursor()"
   ]
  },
  {
   "cell_type": "code",
   "execution_count": 6,
   "metadata": {},
   "outputs": [
    {
     "data": {
      "text/plain": [
       "<duckdb.duckdb.DuckDBPyConnection at 0x7f9e684d19b0>"
      ]
     },
     "execution_count": 6,
     "metadata": {},
     "output_type": "execute_result"
    }
   ],
   "source": [
    "cur.execute(\"SELECT * FROM Site LIMIT 5;\")"
   ]
  },
  {
   "cell_type": "markdown",
   "metadata": {},
   "source": [
    "Now we want results. There are three ways of getting them"
   ]
  },
  {
   "cell_type": "code",
   "execution_count": 7,
   "metadata": {},
   "outputs": [
    {
     "data": {
      "text/plain": [
       "[('barr',\n",
       "  'Barrow',\n",
       "  'Alaska, USA',\n",
       "  71.30000305175781,\n",
       "  -156.60000610351562,\n",
       "  220.39999389648438),\n",
       " ('burn',\n",
       "  'Burntpoint Creek',\n",
       "  'Ontario, Canada',\n",
       "  55.20000076293945,\n",
       "  -84.30000305175781,\n",
       "  63.0),\n",
       " ('bylo',\n",
       "  'Bylot Island',\n",
       "  'Nunavut, Canada',\n",
       "  73.19999694824219,\n",
       "  -80.0,\n",
       "  723.5999755859375),\n",
       " ('cakr',\n",
       "  'Cape Krusenstern',\n",
       "  'Alaska, USA',\n",
       "  67.0999984741211,\n",
       "  -163.5,\n",
       "  54.099998474121094),\n",
       " ('cari',\n",
       "  'Canning River Delta',\n",
       "  'Alaska, USA',\n",
       "  70.0999984741211,\n",
       "  -145.8000030517578,\n",
       "  722.0)]"
      ]
     },
     "execution_count": 7,
     "metadata": {},
     "output_type": "execute_result"
    }
   ],
   "source": [
    "cur.fetchall()"
   ]
  },
  {
   "cell_type": "markdown",
   "metadata": {},
   "source": [
    "Cursors don't store anything, they just transfer queries to the database and get results back."
   ]
  },
  {
   "cell_type": "code",
   "execution_count": 8,
   "metadata": {},
   "outputs": [
    {
     "data": {
      "text/plain": [
       "[]"
      ]
     },
     "execution_count": 8,
     "metadata": {},
     "output_type": "execute_result"
    }
   ],
   "source": [
    "cur.fetchall()"
   ]
  },
  {
   "cell_type": "code",
   "execution_count": 9,
   "metadata": {},
   "outputs": [
    {
     "data": {
      "text/plain": [
       "<duckdb.duckdb.DuckDBPyConnection at 0x7f9e684d19b0>"
      ]
     },
     "execution_count": 9,
     "metadata": {},
     "output_type": "execute_result"
    }
   ],
   "source": [
    "cur.execute(\"SELECT Nest_ID FROM Bird_nests LIMIT 10\")"
   ]
  },
  {
   "cell_type": "code",
   "execution_count": 10,
   "metadata": {},
   "outputs": [
    {
     "data": {
      "text/plain": [
       "[('14HPE1',),\n",
       " ('11eaba',),\n",
       " ('11eabaagc01',),\n",
       " ('11eabaagv01',),\n",
       " ('11eababbc02',),\n",
       " ('11eababsv01',),\n",
       " ('11eabaduh01',),\n",
       " ('11eabaduv01',),\n",
       " ('11eabarpc01',),\n",
       " ('11eabarpc02',)]"
      ]
     },
     "execution_count": 10,
     "metadata": {},
     "output_type": "execute_result"
    }
   ],
   "source": [
    "cur.fetchall()"
   ]
  },
  {
   "cell_type": "code",
   "execution_count": 11,
   "metadata": {},
   "outputs": [
    {
     "data": {
      "text/plain": [
       "['14HPE1',\n",
       " '11eaba',\n",
       " '11eabaagc01',\n",
       " '11eabaagv01',\n",
       " '11eababbc02',\n",
       " '11eababsv01',\n",
       " '11eabaduh01',\n",
       " '11eabaduv01',\n",
       " '11eabarpc01',\n",
       " '11eabarpc02']"
      ]
     },
     "execution_count": 11,
     "metadata": {},
     "output_type": "execute_result"
    }
   ],
   "source": [
    "cur.execute(\"SELECT Nest_ID FROM Bird_nests LIMIT 10\")\n",
    "[t[0] for t in cur.fetchall()]"
   ]
  },
  {
   "cell_type": "markdown",
   "metadata": {},
   "source": [
    "2. Get the one result, or the next result"
   ]
  },
  {
   "cell_type": "code",
   "execution_count": 13,
   "metadata": {},
   "outputs": [
    {
     "data": {
      "text/plain": [
       "[(1547,)]"
      ]
     },
     "execution_count": 13,
     "metadata": {},
     "output_type": "execute_result"
    }
   ],
   "source": [
    "cur.execute(\"SELECT COUNT(*) FROM Bird_nests\")\n",
    "cur.fetchall()"
   ]
  },
  {
   "cell_type": "code",
   "execution_count": 14,
   "metadata": {},
   "outputs": [
    {
     "data": {
      "text/plain": [
       "(1547,)"
      ]
     },
     "execution_count": 14,
     "metadata": {},
     "output_type": "execute_result"
    }
   ],
   "source": [
    "cur.execute(\"SELECT COUNT(*) FROM Bird_nests\")\n",
    "cur.fetchone()"
   ]
  },
  {
   "cell_type": "code",
   "execution_count": 15,
   "metadata": {},
   "outputs": [
    {
     "data": {
      "text/plain": [
       "1547"
      ]
     },
     "execution_count": 15,
     "metadata": {},
     "output_type": "execute_result"
    }
   ],
   "source": [
    "cur.execute(\"SELECT COUNT(*) FROM Bird_nests\")\n",
    "cur.fetchone()[0]"
   ]
  },
  {
   "cell_type": "markdown",
   "metadata": {},
   "source": [
    "Using an iterator -- but DuckDB doesn't support iterators"
   ]
  },
  {
   "cell_type": "code",
   "execution_count": 16,
   "metadata": {},
   "outputs": [
    {
     "ename": "TypeError",
     "evalue": "'duckdb.duckdb.DuckDBPyConnection' object is not iterable",
     "output_type": "error",
     "traceback": [
      "\u001b[0;31m---------------------------------------------------------------------------\u001b[0m",
      "\u001b[0;31mTypeError\u001b[0m                                 Traceback (most recent call last)",
      "\u001b[0;32m<ipython-input-16-4b4811eb302d>\u001b[0m in \u001b[0;36m<module>\u001b[0;34m\u001b[0m\n\u001b[1;32m      1\u001b[0m \u001b[0mcur\u001b[0m\u001b[0;34m.\u001b[0m\u001b[0mexecute\u001b[0m\u001b[0;34m(\u001b[0m\u001b[0;34m\"SELECT Nest_ID FROM Bird_nests LIMIT 10\"\u001b[0m\u001b[0;34m)\u001b[0m\u001b[0;34m\u001b[0m\u001b[0;34m\u001b[0m\u001b[0m\n\u001b[0;32m----> 2\u001b[0;31m \u001b[0;32mfor\u001b[0m \u001b[0mrow\u001b[0m \u001b[0;32min\u001b[0m \u001b[0mcur\u001b[0m\u001b[0;34m:\u001b[0m\u001b[0;34m\u001b[0m\u001b[0;34m\u001b[0m\u001b[0m\n\u001b[0m\u001b[1;32m      3\u001b[0m     \u001b[0mprint\u001b[0m\u001b[0;34m(\u001b[0m\u001b[0;34mf\"got {row[0]}\"\u001b[0m\u001b[0;34m)\u001b[0m\u001b[0;34m\u001b[0m\u001b[0;34m\u001b[0m\u001b[0m\n",
      "\u001b[0;31mTypeError\u001b[0m: 'duckdb.duckdb.DuckDBPyConnection' object is not iterable"
     ]
    }
   ],
   "source": [
    "cur.execute(\"SELECT Nest_ID FROM Bird_nests LIMIT 10\")\n",
    "for row in cur:\n",
    "    print(f\"got {row[0]}\")"
   ]
  },
  {
   "cell_type": "markdown",
   "metadata": {},
   "source": [
    "A workaround:"
   ]
  },
  {
   "cell_type": "code",
   "execution_count": 17,
   "metadata": {},
   "outputs": [
    {
     "name": "stdout",
     "output_type": "stream",
     "text": [
      "got nest ID 14HPE1\n",
      "got nest ID 11eaba\n",
      "got nest ID 11eabaagc01\n",
      "got nest ID 11eabaagv01\n",
      "got nest ID 11eababbc02\n",
      "got nest ID 11eababsv01\n",
      "got nest ID 11eabaduh01\n",
      "got nest ID 11eabaduv01\n",
      "got nest ID 11eabarpc01\n",
      "got nest ID 11eabarpc02\n"
     ]
    }
   ],
   "source": [
    "cur.execute(\"SELECT Nest_ID FROM Bird_nests LIMIT 10\")\n",
    "while True:\n",
    "    row = cur.fetchone()\n",
    "    if row == None:\n",
    "        break\n",
    "    # do something with row\n",
    "    print(f\"got nest ID {row[0]}\")"
   ]
  },
  {
   "cell_type": "code",
   "execution_count": 20,
   "metadata": {},
   "outputs": [
    {
     "ename": "CatalogException",
     "evalue": "Catalog Error: Table with name \"temp_table\" already exists!",
     "output_type": "error",
     "traceback": [
      "\u001b[0;31m---------------------------------------------------------------------------\u001b[0m",
      "\u001b[0;31mCatalogException\u001b[0m                          Traceback (most recent call last)",
      "\u001b[0;32m<ipython-input-20-b02ca76527a6>\u001b[0m in \u001b[0;36m<module>\u001b[0;34m\u001b[0m\n\u001b[0;32m----> 1\u001b[0;31m cur.execute(\"\"\"\n\u001b[0m\u001b[1;32m      2\u001b[0m             \u001b[0mCREATE\u001b[0m \u001b[0mTEMP\u001b[0m \u001b[0mTABLE\u001b[0m \u001b[0mtemp_table\u001b[0m \u001b[0mAS\u001b[0m\u001b[0;34m\u001b[0m\u001b[0;34m\u001b[0m\u001b[0m\n\u001b[1;32m      3\u001b[0m             \u001b[0mSELECT\u001b[0m \u001b[0;34m*\u001b[0m \u001b[0mFROM\u001b[0m \u001b[0mBird_nests\u001b[0m \u001b[0mLIMIT\u001b[0m \u001b[0;36m10\u001b[0m\u001b[0;34m\u001b[0m\u001b[0;34m\u001b[0m\u001b[0m\n\u001b[1;32m      4\u001b[0m             \"\"\")\n",
      "\u001b[0;31mCatalogException\u001b[0m: Catalog Error: Table with name \"temp_table\" already exists!"
     ]
    }
   ],
   "source": [
    "cur.execute(\"\"\"\n",
    "            CREATE TEMP TABLE temp_table AS\n",
    "            SELECT * FROM Bird_nests LIMIT 10\n",
    "            \"\"\")"
   ]
  },
  {
   "cell_type": "code",
   "execution_count": 21,
   "metadata": {},
   "outputs": [
    {
     "data": {
      "text/plain": [
       "<duckdb.duckdb.DuckDBPyConnection at 0x7f9e684d19b0>"
      ]
     },
     "execution_count": 21,
     "metadata": {},
     "output_type": "execute_result"
    }
   ],
   "source": [
    "cur.execute(\"SELECT * FROM temp_table\")"
   ]
  },
  {
   "cell_type": "code",
   "execution_count": 22,
   "metadata": {},
   "outputs": [
    {
     "data": {
      "text/plain": [
       "[('b14.6',\n",
       "  2014,\n",
       "  'chur',\n",
       "  '14HPE1',\n",
       "  'sepl',\n",
       "  'vloverti',\n",
       "  datetime.date(2014, 6, 14),\n",
       "  None,\n",
       "  3,\n",
       "  None,\n",
       "  None),\n",
       " ('b11.7',\n",
       "  2011,\n",
       "  'eaba',\n",
       "  '11eaba',\n",
       "  'wrsa',\n",
       "  'bhill',\n",
       "  datetime.date(2011, 7, 10),\n",
       "  'searcher',\n",
       "  4,\n",
       "  None,\n",
       "  None),\n",
       " ('b11.6',\n",
       "  2011,\n",
       "  'eaba',\n",
       "  '11eabaagc01',\n",
       "  'amgp',\n",
       "  'dkessler',\n",
       "  datetime.date(2011, 6, 24),\n",
       "  'searcher',\n",
       "  4,\n",
       "  6.0,\n",
       "  'float'),\n",
       " ('b11.6',\n",
       "  2011,\n",
       "  'eaba',\n",
       "  '11eabaagv01',\n",
       "  'amgp',\n",
       "  'dkessler',\n",
       "  datetime.date(2011, 6, 25),\n",
       "  'searcher',\n",
       "  3,\n",
       "  3.0,\n",
       "  'float'),\n",
       " ('b11.6',\n",
       "  2011,\n",
       "  'eaba',\n",
       "  '11eababbc02',\n",
       "  'bbpl',\n",
       "  'dkessler',\n",
       "  datetime.date(2011, 6, 24),\n",
       "  'searcher',\n",
       "  4,\n",
       "  4.0,\n",
       "  'float'),\n",
       " ('b11.7',\n",
       "  2011,\n",
       "  'eaba',\n",
       "  '11eababsv01',\n",
       "  'wrsa',\n",
       "  'bhill',\n",
       "  datetime.date(2011, 7, 7),\n",
       "  'searcher',\n",
       "  4,\n",
       "  2.0,\n",
       "  'float'),\n",
       " ('b11.6',\n",
       "  2011,\n",
       "  'eaba',\n",
       "  '11eabaduh01',\n",
       "  'dunl',\n",
       "  'dkessler',\n",
       "  datetime.date(2011, 6, 28),\n",
       "  'searcher',\n",
       "  3,\n",
       "  2.0,\n",
       "  'float'),\n",
       " ('b11.6',\n",
       "  2011,\n",
       "  'eaba',\n",
       "  '11eabaduv01',\n",
       "  'dunl',\n",
       "  'dkessler',\n",
       "  datetime.date(2011, 6, 29),\n",
       "  'searcher',\n",
       "  4,\n",
       "  5.0,\n",
       "  'float'),\n",
       " ('b11.7',\n",
       "  2011,\n",
       "  'eaba',\n",
       "  '11eabarpc01',\n",
       "  'reph',\n",
       "  'bhill',\n",
       "  datetime.date(2011, 7, 8),\n",
       "  'searcher',\n",
       "  4,\n",
       "  4.0,\n",
       "  'float'),\n",
       " ('b11.7',\n",
       "  2011,\n",
       "  'eaba',\n",
       "  '11eabarpc02',\n",
       "  'reph',\n",
       "  'bhill',\n",
       "  datetime.date(2011, 7, 8),\n",
       "  'searcher',\n",
       "  3,\n",
       "  4.0,\n",
       "  'float')]"
      ]
     },
     "execution_count": 22,
     "metadata": {},
     "output_type": "execute_result"
    }
   ],
   "source": [
    "cur.fetchall()"
   ]
  },
  {
   "cell_type": "markdown",
   "metadata": {},
   "source": [
    "A note on fragility\n",
    "\n",
    "For example:\n",
    "INSERT INTO Site VALUES (\"abcd\", \"Foo\", 35.7, -119.5, \"?\")\n",
    "\n",
    "A less fragile way of expressing the same thing:\n",
    "INSERT INTO Site (Code, Site_name, Latitude, Longitude, Something_else)\n",
    "    VALUES (\"abcd\", \"Foo\", 35.7, -119.5, \"?\")\n",
    "\n"
   ]
  },
  {
   "cell_type": "markdown",
   "metadata": {},
   "source": []
  },
  {
   "cell_type": "code",
   "execution_count": 23,
   "metadata": {},
   "outputs": [
    {
     "data": {
      "text/plain": [
       "[('barr',\n",
       "  'Barrow',\n",
       "  'Alaska, USA',\n",
       "  71.30000305175781,\n",
       "  -156.60000610351562,\n",
       "  220.39999389648438),\n",
       " ('burn',\n",
       "  'Burntpoint Creek',\n",
       "  'Ontario, Canada',\n",
       "  55.20000076293945,\n",
       "  -84.30000305175781,\n",
       "  63.0),\n",
       " ('bylo',\n",
       "  'Bylot Island',\n",
       "  'Nunavut, Canada',\n",
       "  73.19999694824219,\n",
       "  -80.0,\n",
       "  723.5999755859375)]"
      ]
     },
     "execution_count": 23,
     "metadata": {},
     "output_type": "execute_result"
    }
   ],
   "source": [
    "cur.execute(\"SELECT * FROM Site LIMIT 3\")\n",
    "cur.fetchall()"
   ]
  },
  {
   "cell_type": "code",
   "execution_count": 25,
   "metadata": {},
   "outputs": [
    {
     "data": {
      "text/plain": [
       "[('Barrow', 'barr', 71.30000305175781, -156.60000610351562),\n",
       " ('Burntpoint Creek', 'burn', 55.20000076293945, -84.30000305175781),\n",
       " ('Bylot Island', 'bylo', 73.19999694824219, -80.0)]"
      ]
     },
     "execution_count": 25,
     "metadata": {},
     "output_type": "execute_result"
    }
   ],
   "source": [
    "cur.execute(\"SELECT Site_name, Code, Latitude, Longitude FROM Site LIMIT 3\")\n",
    "cur.fetchall()"
   ]
  },
  {
   "cell_type": "markdown",
   "metadata": {},
   "source": [
    "An extended exampke: How many nests do we have for each species?\n",
    "\n",
    "Approach: first get all species. Then execute a count query for each species."
   ]
  },
  {
   "cell_type": "code",
   "execution_count": 30,
   "metadata": {},
   "outputs": [
    {
     "name": "stdout",
     "output_type": "stream",
     "text": [
      "Species agsq has 0 nests\n",
      "Species amcr has 0 nests\n",
      "Species amgp has 29 nests\n"
     ]
    }
   ],
   "source": [
    "query = \"\"\"\n",
    "    SELECT COUNT(*) FROM Bird_nests\n",
    "    WHERE Species = '%s'\n",
    "    \"\"\"\n",
    "\n",
    "cur.execute(\"SELECT Code FROM Species LIMIT 3\")\n",
    "for row in cur.fetchall(): #DuckDB\n",
    "    code = row[0]\n",
    "    prepared_query = query % code\n",
    "    #print(prepared_query)\n",
    "    cur2 = conn.cursor()\n",
    "    cur2.execute(prepared_query)\n",
    "    print(f\"Species {code} has {cur2.fetchone()[0]} nests\")\n",
    "    cur2.close()"
   ]
  },
  {
   "cell_type": "markdown",
   "metadata": {},
   "source": [
    "The above Python interpolation is dangerous and has caused my database hacks. Theres a better way"
   ]
  },
  {
   "cell_type": "code",
   "execution_count": 33,
   "metadata": {},
   "outputs": [
    {
     "name": "stdout",
     "output_type": "stream",
     "text": [
      "Species agsq has 0 nests\n",
      "Species amcr has 0 nests\n",
      "Species amgp has 29 nests\n"
     ]
    }
   ],
   "source": [
    "query = \"\"\"\n",
    "    SELECT COUNT(*) FROM Bird_nests\n",
    "    WHERE Species = ?\n",
    "    \"\"\"\n",
    "\n",
    "cur.execute(\"SELECT Code FROM Species LIMIT 3\")\n",
    "for row in cur.fetchall(): #DuckDB\n",
    "    code = row[0]\n",
    "    # prepared_query = query % code\n",
    "    #print(prepared_query)\n",
    "    cur2 = conn.cursor()\n",
    "    cur2.execute(query, [code])\n",
    "    print(f\"Species {code} has {cur2.fetchone()[0]} nests\")\n",
    "    cur2.close()"
   ]
  },
  {
   "cell_type": "markdown",
   "metadata": {},
   "source": [
    "Let's illustrate the danger with a different example"
   ]
  },
  {
   "cell_type": "code",
   "execution_count": 35,
   "metadata": {},
   "outputs": [
    {
     "data": {
      "text/plain": [
       "<duckdb.duckdb.DuckDBPyConnection at 0x7f9e684d19b0>"
      ]
     },
     "execution_count": 35,
     "metadata": {},
     "output_type": "execute_result"
    }
   ],
   "source": [
    "abbrev = \"TS\"\n",
    "name = \"Taylor Swift\"\n",
    "cur.execute(\"\"\"\n",
    "            INSERT INTO Personnel (Abbreviation, Name)\n",
    "            VALUES ('%s', '%s')\n",
    "            \"\"\" % (abbrev, name)\n",
    "            )"
   ]
  },
  {
   "cell_type": "code",
   "execution_count": 36,
   "metadata": {},
   "outputs": [
    {
     "ename": "ParserException",
     "evalue": "Parser Error: syntax error at or near \"Brien\"",
     "output_type": "error",
     "traceback": [
      "\u001b[0;31m---------------------------------------------------------------------------\u001b[0m",
      "\u001b[0;31mParserException\u001b[0m                           Traceback (most recent call last)",
      "\u001b[0;32m<ipython-input-36-236e0b310183>\u001b[0m in \u001b[0;36m<module>\u001b[0;34m\u001b[0m\n\u001b[1;32m      1\u001b[0m \u001b[0mabbrev\u001b[0m \u001b[0;34m=\u001b[0m \u001b[0;34m\"CO\"\u001b[0m\u001b[0;34m\u001b[0m\u001b[0;34m\u001b[0m\u001b[0m\n\u001b[1;32m      2\u001b[0m \u001b[0mname\u001b[0m \u001b[0;34m=\u001b[0m \u001b[0;34m\"Conan O'Brien\"\u001b[0m\u001b[0;34m\u001b[0m\u001b[0;34m\u001b[0m\u001b[0m\n\u001b[0;32m----> 3\u001b[0;31m cur.execute(\"\"\"\n\u001b[0m\u001b[1;32m      4\u001b[0m             \u001b[0mINSERT\u001b[0m \u001b[0mINTO\u001b[0m \u001b[0mPersonnel\u001b[0m \u001b[0;34m(\u001b[0m\u001b[0mAbbreviation\u001b[0m\u001b[0;34m,\u001b[0m \u001b[0mName\u001b[0m\u001b[0;34m)\u001b[0m\u001b[0;34m\u001b[0m\u001b[0;34m\u001b[0m\u001b[0m\n\u001b[1;32m      5\u001b[0m             \u001b[0mVALUES\u001b[0m \u001b[0;34m(\u001b[0m\u001b[0;34m'%s'\u001b[0m\u001b[0;34m,\u001b[0m \u001b[0;34m'%s'\u001b[0m\u001b[0;34m)\u001b[0m\u001b[0;34m\u001b[0m\u001b[0;34m\u001b[0m\u001b[0m\n",
      "\u001b[0;31mParserException\u001b[0m: Parser Error: syntax error at or near \"Brien\""
     ]
    }
   ],
   "source": [
    "abbrev = \"CO\"\n",
    "name = \"Conan O'Brien\"\n",
    "cur.execute(\"\"\"\n",
    "            INSERT INTO Personnel (Abbreviation, Name)\n",
    "            VALUES ('%s', '%s')\n",
    "            \"\"\" % (abbrev, name)\n",
    "            )"
   ]
  },
  {
   "cell_type": "code",
   "execution_count": 39,
   "metadata": {},
   "outputs": [
    {
     "data": {
      "text/plain": [
       "<duckdb.duckdb.DuckDBPyConnection at 0x7f9e684d19b0>"
      ]
     },
     "execution_count": 39,
     "metadata": {},
     "output_type": "execute_result"
    }
   ],
   "source": [
    "abbrev = \"CO\"\n",
    "name = \"Conan O'Brien\"\n",
    "cur.execute(\"\"\"\n",
    "            INSERT INTO Personnel (Abbreviation, Name)\n",
    "            VALUES (?, ?)\n",
    "            \"\"\" \n",
    "            ,\n",
    "            [abbrev, name])"
   ]
  },
  {
   "cell_type": "code",
   "execution_count": 41,
   "metadata": {},
   "outputs": [
    {
     "data": {
      "text/plain": [
       "[('mcorrell', 'Maureen Correll'),\n",
       " ('TS', 'Taylor Swift'),\n",
       " ('CO', \"Conan O'Brien\")]"
      ]
     },
     "execution_count": 41,
     "metadata": {},
     "output_type": "execute_result"
    }
   ],
   "source": [
    "cur.execute(\"SELECT * FROM Personnel\")\n",
    "cur.fetchall()[-3:]"
   ]
  },
  {
   "cell_type": "code",
   "execution_count": 7,
   "metadata": {},
   "outputs": [
    {
     "name": "stdout",
     "output_type": "stream",
     "text": [
      "Observer vloverti gathered 54 nests\n",
      "Observer rlanctot gathered 40 nests\n",
      "Observer abankert gathered 17 nests\n",
      "Observer bhill gathered 55 nests\n",
      "Observer ssaalfeld gathered 13 nests\n",
      "Observer wenglish gathered 18 nests\n",
      "Observer lworing gathered 14 nests\n",
      "Observer mballvanzee gathered 2 nests\n",
      "Observer dkessler gathered 69 nests\n",
      "Observer bharrington gathered 245 nests\n",
      "Observer lmckinnon gathered 249 nests\n",
      "Observer dhodkinson gathered 15 nests\n",
      "Observer jzamuido gathered 11 nests\n",
      "Observer amould gathered 42 nests\n",
      "Observer bkaselow gathered 4 nests\n",
      "Observer jflamarre gathered 43 nests\n",
      "Observer edastrous gathered 38 nests\n",
      "Observer mbwunder gathered 4 nests\n",
      "Observer None gathered 0 nests\n",
      "Observer kkalasz gathered 12 nests\n"
     ]
    }
   ],
   "source": [
    "inner_query = \"\"\"\n",
    "SELECT COUNT(*) AS num_nests\n",
    "FROM Bird_nests\n",
    "WHERE Observer = ?\n",
    "\"\"\"\n",
    "\n",
    "outer_query = \"\"\"\n",
    "SELECT DISTINCT Observer FROM Bird_nests\"\"\"\n",
    "\n",
    "for row in cur.execute(outer_query).fetchall():\n",
    "    observer = row[0]\n",
    "    cur2 = conn.cursor()\n",
    "    cur2.execute(inner_query, [observer])\n",
    "    print(f\"Observer {observer} gathered {cur2.fetchone()[0]} nests\")"
   ]
  },
  {
   "cell_type": "code",
   "execution_count": 8,
   "metadata": {},
   "outputs": [],
   "source": [
    "import pandas as pd"
   ]
  },
  {
   "cell_type": "code",
   "execution_count": 9,
   "metadata": {},
   "outputs": [
    {
     "name": "stderr",
     "output_type": "stream",
     "text": [
      "<ipython-input-9-36a7b332205d>:1: UserWarning: pandas only supports SQLAlchemy connectable (engine/connection) or database string URI or sqlite3 DBAPI2 connection. Other DBAPI2 objects are not tested. Please consider using SQLAlchemy.\n",
      "  df = pd.read_sql(\"SELECT * FROM Site\", conn)\n"
     ]
    }
   ],
   "source": [
    "df = pd.read_sql(\"SELECT * FROM Site\", conn)"
   ]
  }
 ],
 "metadata": {
  "kernelspec": {
   "display_name": "base",
   "language": "python",
   "name": "python3"
  },
  "language_info": {
   "codemirror_mode": {
    "name": "ipython",
    "version": 3
   },
   "file_extension": ".py",
   "mimetype": "text/x-python",
   "name": "python",
   "nbconvert_exporter": "python",
   "pygments_lexer": "ipython3",
   "version": "3.8.8"
  }
 },
 "nbformat": 4,
 "nbformat_minor": 2
}
