{
 "cells": [
  {
   "cell_type": "code",
   "execution_count": 11,
   "metadata": {},
   "outputs": [],
   "source": [
    "import duckdb\n",
    "import pandas as pd\n",
    "\n",
    "# Connect to the database\n",
    "conn = duckdb.connect(\"database.db\")\n",
    "c = conn.cursor()"
   ]
  },
  {
   "cell_type": "code",
   "execution_count": 12,
   "metadata": {},
   "outputs": [],
   "source": [
    "# Step 1: Get distinct species with egg data\n",
    "species_query = \"\"\"\n",
    "SELECT Code, Scientific_name\n",
    "FROM Species s\n",
    "INNER JOIN Bird_nests n ON s.Code = n.Species\n",
    "INNER JOIN Bird_eggs e ON n.Nest_ID = e.Nest_ID\n",
    "GROUP BY s.Code, s.Scientific_name\n",
    "ORDER BY s.Scientific_name;\n",
    "\"\"\""
   ]
  },
  {
   "cell_type": "code",
   "execution_count": 13,
   "metadata": {},
   "outputs": [
    {
     "name": "stdout",
     "output_type": "stream",
     "text": [
      "Arenaria interpres 21.12%\n",
      "Calidris alpina 5.46%\n",
      "Calidris fuscicollis 16.77%\n",
      "Charadrius semipalmatus 8.99%\n",
      "Phalaropus fulicarius 4.65%\n",
      "Pluvialis dominica 19.88%\n",
      "Pluvialis squatarola 6.94%\n"
     ]
    },
    {
     "name": "stderr",
     "output_type": "stream",
     "text": [
      "<ipython-input-13-68ec66bdcea7>:16: UserWarning: pandas only supports SQLAlchemy connectable (engine/connection) or database string URI or sqlite3 DBAPI2 connection. Other DBAPI2 objects are not tested. Please consider using SQLAlchemy.\n",
      "  df = pd.read_sql(egg_query, conn, params=[species_code])\n",
      "<ipython-input-13-68ec66bdcea7>:16: UserWarning: pandas only supports SQLAlchemy connectable (engine/connection) or database string URI or sqlite3 DBAPI2 connection. Other DBAPI2 objects are not tested. Please consider using SQLAlchemy.\n",
      "  df = pd.read_sql(egg_query, conn, params=[species_code])\n",
      "<ipython-input-13-68ec66bdcea7>:16: UserWarning: pandas only supports SQLAlchemy connectable (engine/connection) or database string URI or sqlite3 DBAPI2 connection. Other DBAPI2 objects are not tested. Please consider using SQLAlchemy.\n",
      "  df = pd.read_sql(egg_query, conn, params=[species_code])\n",
      "<ipython-input-13-68ec66bdcea7>:16: UserWarning: pandas only supports SQLAlchemy connectable (engine/connection) or database string URI or sqlite3 DBAPI2 connection. Other DBAPI2 objects are not tested. Please consider using SQLAlchemy.\n",
      "  df = pd.read_sql(egg_query, conn, params=[species_code])\n",
      "<ipython-input-13-68ec66bdcea7>:16: UserWarning: pandas only supports SQLAlchemy connectable (engine/connection) or database string URI or sqlite3 DBAPI2 connection. Other DBAPI2 objects are not tested. Please consider using SQLAlchemy.\n",
      "  df = pd.read_sql(egg_query, conn, params=[species_code])\n",
      "<ipython-input-13-68ec66bdcea7>:16: UserWarning: pandas only supports SQLAlchemy connectable (engine/connection) or database string URI or sqlite3 DBAPI2 connection. Other DBAPI2 objects are not tested. Please consider using SQLAlchemy.\n",
      "  df = pd.read_sql(egg_query, conn, params=[species_code])\n",
      "<ipython-input-13-68ec66bdcea7>:16: UserWarning: pandas only supports SQLAlchemy connectable (engine/connection) or database string URI or sqlite3 DBAPI2 connection. Other DBAPI2 objects are not tested. Please consider using SQLAlchemy.\n",
      "  df = pd.read_sql(egg_query, conn, params=[species_code])\n"
     ]
    }
   ],
   "source": [
    "# Step 2: Iterate over species\n",
    "for row in c.execute(species_query).fetchall():\n",
    "    species_code = row[0]\n",
    "    scientific_name = row[1]\n",
    "\n",
    "    # Step 3: Query egg data for the current species\n",
    "    egg_query = \"\"\"\n",
    "    SELECT Width, Length\n",
    "    FROM Bird_eggs\n",
    "    WHERE Nest_ID IN (\n",
    "        SELECT Nest_ID\n",
    "        FROM Bird_nests\n",
    "        WHERE Species = ?\n",
    "    );\n",
    "    \"\"\"\n",
    "    df = pd.read_sql(egg_query, conn, params=[species_code])\n",
    "\n",
    "    # Step 4: Compute statistics and show results\n",
    "    if not df.empty:\n",
    "        df['Volume'] = df['Width'] ** 2 * df['Length']\n",
    "        cv = round(df['Volume'].std() / df['Volume'].mean() * 100, 2)\n",
    "        print(f\"{scientific_name} {cv}%\")\n",
    "    else:\n",
    "        print(f\"{scientific_name} No egg data available\")\n",
    "\n",
    "# Close the connection\n",
    "conn.close()"
   ]
  }
 ],
 "metadata": {
  "kernelspec": {
   "display_name": "base",
   "language": "python",
   "name": "python3"
  },
  "language_info": {
   "codemirror_mode": {
    "name": "ipython",
    "version": 3
   },
   "file_extension": ".py",
   "mimetype": "text/x-python",
   "name": "python",
   "nbconvert_exporter": "python",
   "pygments_lexer": "ipython3",
   "version": "3.8.8"
  }
 },
 "nbformat": 4,
 "nbformat_minor": 2
}
